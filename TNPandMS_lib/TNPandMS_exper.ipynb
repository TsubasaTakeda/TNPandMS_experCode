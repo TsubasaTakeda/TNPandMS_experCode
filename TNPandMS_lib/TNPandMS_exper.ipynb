{
 "cells": [
  {
   "cell_type": "code",
   "execution_count": 6,
   "metadata": {},
   "outputs": [],
   "source": [
    "import os\n",
    "import sys\n",
    "sys.path.append('Network/')\n",
    "sys.path.append('NGEV/')\n",
    "sys.path.append('Matrix/')\n",
    "\n",
    "import makeTSnet as mts\n",
    "import readNetwork as rn\n",
    "import makeConstMat as mcm\n",
    "import readSparseMat as rsm\n"
   ]
  },
  {
   "cell_type": "code",
   "execution_count": 2,
   "metadata": {},
   "outputs": [],
   "source": [
    "# 実験するネットワークの名前を入れましょう\n",
    "network_name = 'Sample'"
   ]
  },
  {
   "cell_type": "code",
   "execution_count": 3,
   "metadata": {},
   "outputs": [
    {
     "name": "stdout",
     "output_type": "stream",
     "text": [
      "c:\\Users\\tsuba\\Documents\\master_thesis\\TNPandMS_experCode\\_sampleData\\Sample\n",
      "['Scenario_0']\n"
     ]
    }
   ],
   "source": [
    "# 必要なファイルがそろっているかを確認するセル(エラーが出たら必要なファイルを確認して用意すること)\n",
    "root = os.path.dirname(os.path.abspath('.'))\n",
    "root = os.path.join(root, '_sampleData', network_name)\n",
    "print(root)\n",
    "files = os.listdir(root)\n",
    "\n",
    "files_is_ready = 0\n",
    "\n",
    "if 'netname_net.tntp'.replace('netname', network_name) not in files:\n",
    "    print('netname_net.tntp file is not exist.')\n",
    "    files_is_ready = -1\n",
    "if 'netname_node.tntp'.replace('netname', network_name) not in files:\n",
    "    print('netname_node.tntp file is no exist.')\n",
    "    files_is_ready = -1\n",
    "if 'netname_trips.tntp'.replace('netname', network_name) not in files:\n",
    "    print('netname_trips.tntp file is not exist.')\n",
    "    files_is_ready = -1\n",
    "\n",
    "\n",
    "\n",
    "scenario_set = [f for f in files if os.path.isdir(os.path.join(root, f))]\n",
    "for scene in scenario_set:\n",
    "    scene_files = os.listdir(os.path.join(root, scene))\n",
    "    if 'netname_vu.tntp'.replace('netname', network_name) not in scene_files:\n",
    "        print(scene + '/netname_vu.tntp file is not exist.')\n",
    "        files_is_ready = -1\n",
    "\n",
    "\n",
    "if files_is_ready == -1:\n",
    "    print('FILE NOT READY ERROR!!!')\n",
    "\n",
    "print(scenario_set)"
   ]
  },
  {
   "attachments": {},
   "cell_type": "markdown",
   "metadata": {},
   "source": [
    "### ここから実験コード"
   ]
  },
  {
   "cell_type": "code",
   "execution_count": 4,
   "metadata": {},
   "outputs": [],
   "source": [
    "# 必要データの生成\n",
    "# capacity_scale: 道路容量を何倍にするか．時空間ネットワーク作成時に利用\n",
    "# non_trip_cost: tripを実行しない場合のコスト．仮想ネットワーク作成時に利用\n",
    "capacity_scale = 0.75\n",
    "non_trip_cost = 20.0"
   ]
  },
  {
   "cell_type": "code",
   "execution_count": 8,
   "metadata": {},
   "outputs": [
    {
     "name": "stdout",
     "output_type": "stream",
     "text": [
      "start write net\n",
      "end write net\n",
      "start write nodes\n",
      "end write nodes\n",
      "\n",
      "start write net\n",
      "end write net\n",
      "start write nodes\n",
      "end write nodes\n",
      "\n",
      "start write net\n",
      "end write net\n",
      "start write nodes\n",
      "end write nodes\n",
      "\n",
      "finish making virtual_network !!!!!!\n",
      "\n",
      "\n",
      "\n"
     ]
    }
   ],
   "source": [
    "for scenario in scenario_set:\n",
    "\n",
    "    scenario_root = os.path.join(root, scenario)\n",
    "\n",
    "    # 時空間ネットワークを作成\n",
    "    original_links = rn.read_net(os.path.join(root, 'netname_net.tntp'.replace('netname', network_name)))\n",
    "    num_zones = rn.read_num_zones(os.path.join(root, 'netname_net.tntp'.replace('netname', network_name)))\n",
    "    ftn = rn.read_ftn(os.path.join(root, 'netname_net.tntp'.replace('netname', network_name)))\n",
    "    original_nodes = rn.read_node(os.path.join(root, 'netname_node.tntp'.replace('netname', network_name)))\n",
    "    num_times = rn.read_num_times(os.path.join(scenario_root, 'netname_vu.tntp'.replace('netname', network_name)))\n",
    "    [TS_links, TS_nodes] = mts.make_TS_net(original_links, original_nodes, num_times, capacity_scale)\n",
    "\n",
    "    # 時空間ネットワークを保存\n",
    "    temp_root = os.path.join(scenario_root, 'TS_net')\n",
    "    os.makedirs(temp_root, exist_ok=True)\n",
    "    rn.write_net(os.path.join(temp_root, 'netname_ts_net.tntp'.replace('netname', network_name)), TS_links, num_zones*2, len(TS_nodes), ftn, len(TS_links))\n",
    "    rn.write_node(os.path.join(temp_root, 'netname_ts_node.tntp'.replace('netname', network_name)), TS_nodes)\n",
    "\n",
    "    # 時空間ネットワークに関するメモリを解放\n",
    "    del TS_links, TS_nodes\n",
    "\n",
    "\n",
    "\n",
    "\n",
    "\n",
    "\n",
    "    # 仮想ネットワークを作成\n",
    "    [vehicle_info, user_info] = rn.read_vu(os.path.join(scenario_root, 'netname_vu.tntp'.replace('netname', network_name)))\n",
    "    [vehicle_scost, user_scost] = rn.read_scost(os.path.join(scenario_root, 'netname_scost.tntp'.replace('netname', network_name)))\n",
    "    virtual_root = os.path.join(scenario_root, 'virtual_net')\n",
    "    const_root = os.path.join(scenario_root, 'constMat')\n",
    "\n",
    "    # 車両側の仮想ネットワーク\n",
    "    for vehicle_num in vehicle_info.keys():\n",
    "        [VTS_links, VTS_nodes] = mts.make_vehicle_net(original_links, original_nodes, num_zones, num_times, vehicle_info[vehicle_num], vehicle_scost[vehicle_num], non_trip_cost)\n",
    "\n",
    "        os.makedirs(os.path.join(virtual_root, 'vehicle', str(vehicle_num)), exist_ok=True)\n",
    "\n",
    "        rn.write_net(os.path.join(virtual_root, 'vehicle', str(vehicle_num), 'netname_vir_net.tntp'.replace('netname', network_name)), VTS_links, num_zones*2, len(VTS_nodes), ftn, len(VTS_links))\n",
    "        rn.write_node(os.path.join(virtual_root, 'vehicle', str(vehicle_num), 'netname_vir_node.tntp'.replace('netname', network_name)), VTS_nodes)\n",
    "\n",
    "        # 係数行列を作成\n",
    "        os.makedirs(os.path.join(const_root, 'vehicle', str(vehicle_num)), exist_ok=True)\n",
    "\n",
    "\n",
    "    del VTS_links, VTS_nodes\n",
    "\n",
    "\n",
    "    # 利用者側の仮想ネットワーク\n",
    "    for user_num in user_info.keys():\n",
    "        [UTS_links, UTS_nodes] = mts.make_user_net(original_links, original_nodes, num_zones, num_times, user_info[user_num], user_scost[user_num], non_trip_cost)\n",
    "        \n",
    "        os.makedirs(os.path.join(virtual_root, 'user', str(user_num)), exist_ok=True)\n",
    "\n",
    "        rn.write_net(os.path.join(virtual_root, 'user', str(user_num), 'Sample_vir_net.tntp'), UTS_links, num_zones*2, len(UTS_nodes), 1, len(UTS_links))\n",
    "        rn.write_node(os.path.join(virtual_root, 'user', str(user_num), 'Sample_vir_node.tntp'), UTS_nodes)\n",
    "\n",
    "    del UTS_links, UTS_nodes\n",
    "\n",
    "\n",
    "    print('finish making virtual_network !!!!!!\\n\\n\\n')\n"
   ]
  },
  {
   "cell_type": "code",
   "execution_count": null,
   "metadata": {},
   "outputs": [],
   "source": []
  }
 ],
 "metadata": {
  "kernelspec": {
   "display_name": "Python 3.8.8 ('base')",
   "language": "python",
   "name": "python3"
  },
  "language_info": {
   "codemirror_mode": {
    "name": "ipython",
    "version": 3
   },
   "file_extension": ".py",
   "mimetype": "text/x-python",
   "name": "python",
   "nbconvert_exporter": "python",
   "pygments_lexer": "ipython3",
   "version": "3.8.8"
  },
  "orig_nbformat": 4,
  "vscode": {
   "interpreter": {
    "hash": "a8a397c3ae1f36803006b7bf920019ed8a8793154c414a489479474a8846d710"
   }
  }
 },
 "nbformat": 4,
 "nbformat_minor": 2
}
