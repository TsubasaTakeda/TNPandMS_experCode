{
 "cells": [
  {
   "attachments": {},
   "cell_type": "markdown",
   "metadata": {},
   "source": [
    "### アルゴリズム同士の比較グラフを作成するプログラム"
   ]
  },
  {
   "cell_type": "code",
   "execution_count": 1,
   "metadata": {},
   "outputs": [],
   "source": [
    "import os\n",
    "import pandas as pd\n",
    "import numpy as np\n",
    "import matplotlib.pyplot as plt"
   ]
  },
  {
   "attachments": {},
   "cell_type": "markdown",
   "metadata": {},
   "source": [
    "#### **アルゴリズムで比較をする場合**"
   ]
  },
  {
   "attachments": {},
   "cell_type": "markdown",
   "metadata": {},
   "source": [
    "設定：ネットワーク・シナリオ・アルゴリズム"
   ]
  },
  {
   "cell_type": "code",
   "execution_count": 36,
   "metadata": {},
   "outputs": [],
   "source": [
    "# データが格納されているディレクトリ\n",
    "dir_name = '_sampleData'\n",
    "net_name = 'Sample'\n",
    "# シナリオごとの何の値の変化を横軸にするか\n",
    "comp_name = '# of time_window'\n",
    "scenarios = ['Scenario_1', 'Scenario_2', 'Scenario_3']\n",
    "comp_val = [10, 7, 20]\n",
    "# グラフ化するアルゴリズム｛アルゴリズムの名前: [primal_or_dual, グラフの線の色]｝\n",
    "algos = {'FISTA_D':['dual', (0, 0, 1)]}\n",
    "\n",
    "# ------！！！変更するのはこの上まで！！！----------------\n",
    "\n",
    "\n",
    "# ディレクトリの場所を取得\n",
    "root = os.path.dirname(os.path.abspath('.'))\n",
    "root = os.path.join(root, '..', dir_name, net_name)\n",
    "\n",
    "# グラフを作成するために必要なデータが揃っているかを確認\n",
    "# (実行時にoutputが無ければOK)\n",
    "files = os.listdir(root)\n",
    "for scene in scenarios:\n",
    "    if scene not in files:\n",
    "        print('Scenario: ', scene, 'is not existed!')\n",
    "    else:\n",
    "        for algo in algos:\n",
    "            if algo not in os.listdir(os.path.join(root, scene, 'result')):\n",
    "                print('Dir: dirname//netname//scene//result//algo is not existed'.replace('dirname',dir_name).replace('netname', net_name).replace('scene', scene).replace('algo', algo))\n",
    "            elif 'result.csv' not in os.listdir(os.path.join(root, scene, 'result', algo)):\n",
    "                print('File: dirname//netname//scene//result//algo//result.csv is not existed'.replace('dirname',\n",
    "                    dir_name).replace('netname', net_name).replace('scene', scene).replace('algo', algo))\n",
    "\n",
    "# 比較変数を辞書として登録\n",
    "comp_val = dict(zip(scenarios, comp_val))\n",
    "comp_val = dict(sorted(comp_val.items(), key=lambda x: x[1]))\n",
    "scenarios = list(comp_val.keys())\n",
    "# print(comp_val)\n"
   ]
  },
  {
   "cell_type": "code",
   "execution_count": 37,
   "metadata": {},
   "outputs": [],
   "source": [
    "# データの読み込み\n",
    "data = {}\n",
    "for algo in algos.keys():\n",
    "    data[algo] = {}\n",
    "    for scene in scenarios:\n",
    "        data[algo][scene] = pd.read_csv(os.path.join(root, scene, 'result', algo, 'result.csv'))\n",
    "        # 目的関数の相対誤差を追加\n",
    "        obj = np.array(list(data[algo][scene]['now_obj']))\n",
    "        obj_error = obj - obj[-1]\n",
    "        if algos[algo][0] == 'dual':\n",
    "            obj = -obj\n",
    "        sol_obj = obj[-1]\n",
    "        data[algo][scene]['obj_error'] = obj_error\n",
    "        # print(data[scene]['now_obj'])"
   ]
  },
  {
   "attachments": {},
   "cell_type": "markdown",
   "metadata": {},
   "source": [
    "横軸：comp_val，縦軸：data の columns から読み取る（最後の要素）"
   ]
  },
  {
   "cell_type": "code",
   "execution_count": 39,
   "metadata": {},
   "outputs": [
    {
     "data": {
      "image/png": "[encoded data removed]",
      "text/plain": [
       "<Figure size 432x270 with 1 Axes>"
      ]
     },
     "metadata": {
      "needs_background": "light"
     },
     "output_type": "display_data"
    }
   ],
   "source": [
    "# 縦軸を何にするか\n",
    "# [Iteration, para_time, total_time, now_conv, now_lips, num_call_obj, num_call_nbl, num_call_proj, num_call_conv, obj_error]\n",
    "tateziku = 'total_time'\n",
    "tate_name = 'CPU-time [s]'\n",
    "\n",
    "\n",
    "# ここから下はグラフ化\n",
    "# ---------------------------------------------------------------------------------------------------------------------------------------\n",
    "\n",
    "fig = plt.figure(figsize=(6, 3.75))\n",
    "ax1 = fig.add_subplot(111)\n",
    "# ax1.set_ylim(0.0005, 10000)\n",
    "\n",
    "# 対数にする？\n",
    "# ax1.set_yscale('log')\n",
    "ax1.set_title(algo)\n",
    "\n",
    "ax1.set_xlabel(comp_name)\n",
    "ax1.set_ylabel(tate_name)\n",
    "\n",
    "ax1.grid(axis='y', lw=0.5, ls='--')\n",
    "ax1.grid(axis='x', lw=0.5, ls='--')\n",
    "\n",
    "tate_val = []\n",
    "\n",
    "for algo in algos:\n",
    "    for scene in scenarios:\n",
    "        tate_val.append(list(data[algo][scene][tateziku])[-1])\n",
    "    ax1.plot(list(comp_val.values()), tate_val, label=algo, lw=1.0, c=algos[algo][1])\n",
    "\n",
    "\n",
    "ax1.legend()\n",
    "plt.show()\n"
   ]
  }
 ],
 "metadata": {
  "kernelspec": {
   "display_name": "base",
   "language": "python",
   "name": "python3"
  },
  "language_info": {
   "codemirror_mode": {
    "name": "ipython",
    "version": 3
   },
   "file_extension": ".py",
   "mimetype": "text/x-python",
   "name": "python",
   "nbconvert_exporter": "python",
   "pygments_lexer": "ipython3",
   "version": "3.8.8 (default, Apr 13 2021, 15:08:03) [MSC v.1916 64 bit (AMD64)]"
  },
  "orig_nbformat": 4,
  "vscode": {
   "interpreter": {
    "hash": "a8a397c3ae1f36803006b7bf920019ed8a8793154c414a489479474a8846d710"
   }
  }
 },
 "nbformat": 4,
 "nbformat_minor": 2
}
