{
 "cells": [
  {
   "attachments": {},
   "cell_type": "markdown",
   "metadata": {},
   "source": [
    "### 同じアルゴリズムの比較グラフを作成するプログラム"
   ]
  },
  {
   "cell_type": "code",
   "execution_count": 18,
   "metadata": {},
   "outputs": [],
   "source": [
    "import os\n",
    "import pandas as pd\n",
    "import numpy as np\n",
    "import matplotlib.pyplot as plt"
   ]
  },
  {
   "attachments": {},
   "cell_type": "markdown",
   "metadata": {},
   "source": [
    "#### **シナリオで比較をする場合**"
   ]
  },
  {
   "attachments": {},
   "cell_type": "markdown",
   "metadata": {},
   "source": [
    "設定：ネットワーク・シナリオ・アルゴリズム"
   ]
  },
  {
   "cell_type": "code",
   "execution_count": 19,
   "metadata": {},
   "outputs": [],
   "source": [
    "dir_name = '_sampleData'\n",
    "net_name = 'Sample'\n",
    "scenarios = ['Scenario_2', 'Scenario_1', 'Scenario_3']\n",
    "comp_name = '# of time_window'\n",
    "comp_val = [7, 10, 20]\n",
    "algo = 'FISTA_D'\n",
    "# 対象の問題が「主問題 or 双対問題」\n",
    "primal_or_dual = 'dual'\n",
    "\n",
    "# ------！！！変更するのはこの上まで！！！----------------\n",
    "\n",
    "\n",
    "# ディレクトリの場所を取得\n",
    "root = os.path.dirname(os.path.abspath('.'))\n",
    "root = os.path.join(root, '..', dir_name, net_name)\n",
    "\n",
    "# グラフを作成するために必要なデータが揃っているかを確認\n",
    "# (実行時にoutputが無ければOK)\n",
    "files = os.listdir(root)\n",
    "for scene in scenarios:\n",
    "    if scene not in files:\n",
    "        print('Scenario: ', scene, 'is not existed!')\n",
    "    elif algo not in os.listdir(os.path.join(root, scene, 'result')):\n",
    "        print('Dir: dirname//netname//scene//result//algo is not existed'.replace('dirname', dir_name).replace('netname', net_name).replace('scene', scene).replace('algo', algo))\n",
    "    elif 'result.csv' not in os.listdir(os.path.join(root, scene, 'result', algo)):\n",
    "        print('File: dirname//netname//scene//result//algo//result.csv is not existed'.replace('dirname', dir_name).replace('netname', net_name).replace('scene', scene).replace('algo', algo))\n",
    "\n",
    "# 比較変数を辞書として登録\n",
    "comp_val = dict(zip(scenarios, comp_val))\n",
    "comp_val = dict(sorted(comp_val.items(), key=lambda x: x[1]))\n",
    "scenarios = list(comp_val.keys())\n",
    "# print(comp_val)\n"
   ]
  },
  {
   "cell_type": "code",
   "execution_count": 20,
   "metadata": {},
   "outputs": [],
   "source": [
    "# データの読み込み\n",
    "data = {}\n",
    "for scene in scenarios:\n",
    "    data[scene] = pd.read_csv(os.path.join(root, scene, 'result', algo, 'result.csv'))\n",
    "    # 目的関数の相対誤差を追加\n",
    "    obj = np.array(list(data[scene]['now_obj']))\n",
    "    obj_error = obj - obj[-1]\n",
    "    if primal_or_dual == 'dual':\n",
    "        obj = -obj\n",
    "    sol_obj = obj[-1]\n",
    "    data[scene]['obj_error'] = obj_error\n",
    "    # print(data[scene]['now_obj'])"
   ]
  },
  {
   "attachments": {},
   "cell_type": "markdown",
   "metadata": {},
   "source": [
    "横軸・縦軸：どちらも data の columns から読み取る"
   ]
  },
  {
   "cell_type": "code",
   "execution_count": 24,
   "metadata": {},
   "outputs": [
    {
     "data": {
      "image/png": "[encoded data removed]",
      "text/plain": [
       "<Figure size 432x270 with 1 Axes>"
      ]
     },
     "metadata": {
      "needs_background": "light"
     },
     "output_type": "display_data"
    }
   ],
   "source": [
    "# 横軸を何にするか\n",
    "# [Iteration, para_time, total_time, now_conv, now_lips, num_call_obj, num_call_nbl, num_call_proj, num_call_conv, obj_error]\n",
    "yokoziku = 'Iteration'\n",
    "yoko_name = 'iteration'\n",
    "\n",
    "tateziku = 'obj_error'\n",
    "tate_name = 'obj_error'\n",
    "\n",
    "\n",
    "# ここから下はグラフ化\n",
    "# ---------------------------------------------------------------------------------------------------------------------------------------\n",
    "\n",
    "fig = plt.figure(figsize = (6, 3.75))\n",
    "ax1 = fig.add_subplot(111)\n",
    "# ax1.set_ylim(0.0005, 10000)\n",
    "\n",
    "# 対数にする？\n",
    "ax1.set_yscale('log')\n",
    "ax1.set_title(algo)\n",
    "\n",
    "ax1.set_xlabel(yoko_name)\n",
    "ax1.set_ylabel(tate_name)\n",
    "\n",
    "ax1.grid(axis='y', lw = 0.5, ls = '--')\n",
    "ax1.grid(axis='x', lw = 0.5, ls='--')\n",
    "\n",
    "comp_val_range = max(list(comp_val.values())) - min(list(comp_val.values()))\n",
    "\n",
    "for scene in scenarios:\n",
    "    # print(data[scene])\n",
    "    ax1.plot(list(data[scene][yokoziku][:-2]), list(data[scene][tateziku][:-2]), label=comp_name + ' = ' + str(comp_val[scene]), lw=1.0, c=(0, 0, 1, 1.0-0.5*(comp_val[scene]-min(list(comp_val.values())))/comp_val_range))\n",
    "\n",
    "\n",
    "ax1.legend()\n",
    "plt.show()\n"
   ]
  }
 ],
 "metadata": {
  "kernelspec": {
   "display_name": "base",
   "language": "python",
   "name": "python3"
  },
  "language_info": {
   "codemirror_mode": {
    "name": "ipython",
    "version": 3
   },
   "file_extension": ".py",
   "mimetype": "text/x-python",
   "name": "python",
   "nbconvert_exporter": "python",
   "pygments_lexer": "ipython3",
   "version": "3.8.8"
  },
  "orig_nbformat": 4,
  "vscode": {
   "interpreter": {
    "hash": "a8a397c3ae1f36803006b7bf920019ed8a8793154c414a489479474a8846d710"
   }
  }
 },
 "nbformat": 4,
 "nbformat_minor": 2
}
